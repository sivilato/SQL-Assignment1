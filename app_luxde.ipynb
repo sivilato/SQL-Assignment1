{
 "cells": [
  {
   "cell_type": "markdown",
   "id": "a0cb975f",
   "metadata": {},
   "source": [
    "Print statements"
   ]
  },
  {
   "cell_type": "code",
   "execution_count": 3,
   "id": "bfccd5b4",
   "metadata": {},
   "outputs": [
    {
     "name": "stdout",
     "output_type": "stream",
     "text": [
      "     /|\n",
      "    / |\n",
      "   /  |\n",
      "  /___|\n"
     ]
    }
   ],
   "source": [
    "print(\"     /|\")\n",
    "print(\"    / |\")\n",
    "print(\"   /  |\")\n",
    "print(\"  /___|\")"
   ]
  },
  {
   "cell_type": "markdown",
   "id": "5b78dde0",
   "metadata": {},
   "source": [
    "#Variables"
   ]
  },
  {
   "cell_type": "code",
   "execution_count": 16,
   "id": "586c9dc3",
   "metadata": {},
   "outputs": [
    {
     "name": "stdout",
     "output_type": "stream",
     "text": [
      "There was a man named John, \n",
      "he was 35 years old.\n",
      "He really liked the name John, \n",
      "but did'nt like being 35.\n"
     ]
    }
   ],
   "source": [
    "char_name = \"John\"\n",
    "char_age = \"35\"\n",
    "\n",
    "print(\"There was a man named \" + char_name + \", \")\n",
    "print(\"he was \" + char_age + \" years old.\")\n",
    "print(\"He really liked the name \" + char_name + \", \")\n",
    "print(\"but did'nt like being \" + char_age + \".\")"
   ]
  },
  {
   "cell_type": "code",
   "execution_count": null,
   "id": "c8dfea49",
   "metadata": {},
   "outputs": [
    {
     "name": "stdout",
     "output_type": "stream",
     "text": [
      "Giraffe Academy\n",
      "Giraffe\n",
      "Academy\n",
      "Giraffe\"Academy\n",
      "Giraffe Academy\n"
     ]
    }
   ],
   "source": [
    "#Working with Strings\n",
    "\n",
    "print(\"Giraffe Academy\")\n",
    "print(\"Giraffe\\nAcademy\")\n",
    "print(\"Giraffe\\\"Academy\")\n",
    "print(\"Giraffe Academy\")\n"
   ]
  },
  {
   "cell_type": "code",
   "execution_count": 30,
   "id": "debc7105",
   "metadata": {},
   "outputs": [
    {
     "name": "stdout",
     "output_type": "stream",
     "text": [
      "Giraffe Academy\n",
      "Giraffe Academy is cool.\n",
      "GIRAFFE ACADEMY\n",
      "giraffe academy\n",
      "True\n",
      "False\n",
      "15\n",
      "i\n",
      "8\n",
      "Elephant Academy\n"
     ]
    }
   ],
   "source": [
    "phrase = \"Giraffe Academy\"\n",
    "print(phrase)\n",
    "print(phrase + \" is cool.\")\n",
    "\n",
    "#Use function upper() or lower() to change the case\n",
    "\n",
    "#Uper Case\n",
    "print(phrase.upper())\n",
    "\n",
    "#lower case\n",
    "print(phrase.lower())\n",
    "\n",
    "#check if upper and return T/F\n",
    "print(phrase.upper().isupper())\n",
    "print(phrase.lower().isupper())\n",
    "\n",
    "#length of string\n",
    "print(len(phrase))\n",
    "\n",
    "#index of string\n",
    "print(phrase[1])\n",
    "print(phrase.index(\"A\"))\n",
    "\n",
    "#Replace string\n",
    "print(phrase.replace(\"Giraffe\", \"Elephant\"))"
   ]
  },
  {
   "cell_type": "code",
   "execution_count": 55,
   "id": "f2c14bd9",
   "metadata": {},
   "outputs": [
    {
     "name": "stdout",
     "output_type": "stream",
     "text": [
      "5\n",
      "5.254\n",
      "100.0\n",
      "1\n",
      "5\n",
      "5\n",
      "5 is my favorite number.\n",
      "64\n",
      "4\n",
      "3\n",
      "5\n"
     ]
    }
   ],
   "source": [
    "#Working with numbers\n",
    "\n",
    "#Print integers and floats\n",
    "print(5)\n",
    "print(5.254)\n",
    "\n",
    "#Basic math\n",
    "print(40/2*5)\n",
    "\n",
    "#Modulus give sthe remainder of the calculation\n",
    "print(10%3)\n",
    "\n",
    "#numbers in variables\n",
    "my_num = 5\n",
    "print(my_num)\n",
    "\n",
    "#Convert number to string\n",
    "my_num = 5\n",
    "print(str(my_num))\n",
    "\n",
    "print(str(my_num) + \" is my favorite number.\")\n",
    "\n",
    "print(pow(4,3))\n",
    "print(max(4,3))\n",
    "print(min(4,3))\n",
    "print(round(4.7))"
   ]
  },
  {
   "cell_type": "code",
   "execution_count": null,
   "id": "5335062c",
   "metadata": {},
   "outputs": [
    {
     "name": "stdout",
     "output_type": "stream",
     "text": [
      "Hello ken\n"
     ]
    }
   ],
   "source": [
    "#Getting Input From Users\n",
    "name = input(\"Enter you name: \")\n",
    "print(\"Hello \" +name)"
   ]
  },
  {
   "cell_type": "code",
   "execution_count": null,
   "id": "1507d51c",
   "metadata": {},
   "outputs": [
    {
     "name": "stdout",
     "output_type": "stream",
     "text": [
      "Flowers are purple\n",
      "windowsare blue, \n",
      "I love tom\n"
     ]
    }
   ],
   "source": [
    "#Mad libz game\n",
    "color = input(\"Enter a color: \")\n",
    "plural = input(\"Enter a plural noun: \")\n",
    "celebrity = input(\"Enter a celebrity: \")\n",
    "\n",
    "print(\"Flowers are \" + color)\n",
    "print(plural + \" are blue,\")\n",
    "print(\"I love \" + celebrity)\n",
    "\n",
    "\n"
   ]
  },
  {
   "cell_type": "code",
   "execution_count": null,
   "id": "52e6aad7",
   "metadata": {},
   "outputs": [
    {
     "name": "stdout",
     "output_type": "stream",
     "text": [
      "['Kevin', 'Karen', 'Jim', 'Oscar', 'Toby']\n",
      "None\n",
      "None\n",
      "4\n",
      "1\n",
      "None\n",
      "None\n",
      "None\n",
      "['Toby', 'Oscar', 'Kevin', 'Kelly', 'Karen', 'Creed']\n",
      "Creed\n",
      "None\n",
      "None\n"
     ]
    }
   ],
   "source": [
    "#list functions\n",
    "lucky_numbers = [4,8,15,16,23,42]\n",
    "friends = [\"Kevin\",\"Karen\",\"Jim\",\"Oscar\",\"Toby\"]\n",
    "print(friends)\n",
    " \n",
    "print(friends.append(\"Creed\"))\n",
    "\n",
    "print(friends.insert(1, \"Kelly\"))\n",
    "\n",
    "print(friends.index(\"Oscar\"))\n",
    "\n",
    "print(friends.count(\"Jim\"))\n",
    "\n",
    "print(friends.remove(\"Jim\"))\n",
    "\n",
    "print(friends.sort())\n",
    "\n",
    "print(friends.reverse())\n",
    "\n",
    "friends2 = friends.copy()\n",
    "print(friends2)\n",
    "\n",
    "print(friends.pop())\n",
    "\n",
    "print(friends.extend(lucky_numbers))\n",
    "\n",
    "print(friends.clear())\n"
   ]
  },
  {
   "cell_type": "code",
   "execution_count": 78,
   "id": "122bcd06",
   "metadata": {},
   "outputs": [
    {
     "name": "stdout",
     "output_type": "stream",
     "text": [
      "Hello ken!\n"
     ]
    }
   ],
   "source": [
    "#Function 1\n",
    "\n",
    "def say_hi():\n",
    "    name = input(\"Enter you name: \")\n",
    "    print(\"Hello \" +name+\"!\")\n",
    "\n",
    "say_hi()"
   ]
  },
  {
   "cell_type": "code",
   "execution_count": null,
   "id": "58171c7b",
   "metadata": {},
   "outputs": [
    {
     "name": "stdout",
     "output_type": "stream",
     "text": [
      "Hello Ken!\n"
     ]
    }
   ],
   "source": [
    "#Function 2\n",
    "\n",
    "def say_hi(name):\n",
    "    print(\"Hello \" +name+\"!\")\n",
    "\n",
    "say_hi(\"Ken\")\n"
   ]
  },
  {
   "cell_type": "code",
   "execution_count": null,
   "id": "35e0625b",
   "metadata": {},
   "outputs": [],
   "source": [
    "#Function 3\n",
    "\n",
    "def say_hi(name):\n",
    "    print(\"Hello \" +name+\"!\")\n",
    "\n",
    "say_hi(input(\"Enter your name!\"))"
   ]
  },
  {
   "cell_type": "code",
   "execution_count": 80,
   "id": "eabe2c90",
   "metadata": {},
   "outputs": [
    {
     "name": "stdout",
     "output_type": "stream",
     "text": [
      "Hello Ken, you are 35\n",
      "Hello Mike, you are 50\n"
     ]
    }
   ],
   "source": [
    "def say_hi(name, age):\n",
    "    print(\"Hello \" +name+\", you are \" +age)\n",
    "\n",
    "say_hi(\"Ken\", \"35\")\n",
    "say_hi(\"Mike\",\"50\")"
   ]
  },
  {
   "cell_type": "code",
   "execution_count": 83,
   "id": "cb722550",
   "metadata": {},
   "outputs": [
    {
     "name": "stdout",
     "output_type": "stream",
     "text": [
      "27\n"
     ]
    }
   ],
   "source": [
    "#return statement\n",
    "\n",
    "def cube(num):\n",
    "    return num*num*num\n",
    "\n",
    "print(cube(3))"
   ]
  },
  {
   "cell_type": "code",
   "execution_count": 85,
   "id": "e02c5a9b",
   "metadata": {},
   "outputs": [
    {
     "name": "stdout",
     "output_type": "stream",
     "text": [
      "64\n"
     ]
    }
   ],
   "source": [
    "def cube(num):\n",
    "    return num*num*num\n",
    "\n",
    "result = cube(4)\n",
    "print(result)"
   ]
  },
  {
   "cell_type": "code",
   "execution_count": 84,
   "id": "0ff8ed0d",
   "metadata": {},
   "outputs": [
    {
     "name": "stdout",
     "output_type": "stream",
     "text": [
      "12\n"
     ]
    }
   ],
   "source": [
    "def add_numbers(a, b):\n",
    "    return a + b\n",
    "\n",
    "print(add_numbers(5, 7))  # Output: 12\n"
   ]
  },
  {
   "cell_type": "code",
   "execution_count": null,
   "id": "ff67d87f",
   "metadata": {},
   "outputs": [
    {
     "name": "stdout",
     "output_type": "stream",
     "text": [
      "You are not male\n"
     ]
    }
   ],
   "source": [
    "#If statements\n",
    "\n",
    "is_male = False\n",
    "is_tall = True\n",
    "\n",
    "if is_male or is_tall:\n",
    "    print(\"You are either male or tall!\")\n",
    "else:\n",
    "    print(\"You are not male!\")"
   ]
  },
  {
   "cell_type": "code",
   "execution_count": null,
   "id": "a9fee146",
   "metadata": {},
   "outputs": [
    {
     "name": "stdout",
     "output_type": "stream",
     "text": [
      "You are not male\n"
     ]
    }
   ],
   "source": [
    "is_male = True\n",
    "is_tall = True\n",
    "\n",
    "if is_male and is_tall:\n",
    "    print(\"You are a tall male!\")\n",
    "else:\n",
    "    print(\"You are not male!\")"
   ]
  },
  {
   "cell_type": "code",
   "execution_count": 92,
   "id": "4dc77d72",
   "metadata": {},
   "outputs": [
    {
     "name": "stdout",
     "output_type": "stream",
     "text": [
      "You are a short male!\n"
     ]
    }
   ],
   "source": [
    "is_male = True\n",
    "is_tall = False\n",
    "\n",
    "if is_male and is_tall:\n",
    "    print(\"You are a tall male!\")\n",
    "elif is_male and not (is_tall):\n",
    "    print(\"You are a short male!\")\n",
    "elif not(is_male) and is_tall:\n",
    "    print(\"You are not a male but are tall!\")\n",
    "else:\n",
    "    print(\"You are not male!\")"
   ]
  },
  {
   "cell_type": "code",
   "execution_count": 95,
   "id": "315da33e",
   "metadata": {},
   "outputs": [
    {
     "name": "stdout",
     "output_type": "stream",
     "text": [
      "40\n"
     ]
    }
   ],
   "source": [
    "#If statements & comparisons\n",
    "\n",
    "def max_num(num1,num2,num3):\n",
    "    if num1 >= num2 and num1 >= num3:\n",
    "        return num1\n",
    "    elif num2 >= num1 and num2 >= num3:\n",
    "        return num2\n",
    "    else:\n",
    "        return num3\n",
    "\n",
    "print(max_num(3,40,5))"
   ]
  },
  {
   "cell_type": "code",
   "execution_count": 106,
   "id": "b266501f",
   "metadata": {},
   "outputs": [
    {
     "name": "stdout",
     "output_type": "stream",
     "text": [
      "Invalid operator!!!!\n"
     ]
    }
   ],
   "source": [
    "#BEtter calculator\n",
    "\n",
    "num1 = float(input(\"Enter first number: \"))\n",
    "op = input(\"Enter operator: \")\n",
    "num2 = float(input(\"Enter second number: \"))\n",
    "\n",
    "if op == \"+\":\n",
    "    print(num1+num2)\n",
    "elif op == \"-\":\n",
    "    print(num1-num2)\n",
    "elif op == \"/\":\n",
    "    print(num1/num2)\n",
    "elif op == \"*\":\n",
    "    print(num1*num2)\n",
    "else:\n",
    "    print(\"Invalid operator!!!!\")\n",
    "\n"
   ]
  },
  {
   "cell_type": "code",
   "execution_count": 111,
   "id": "b72f0c1d",
   "metadata": {},
   "outputs": [
    {
     "name": "stdout",
     "output_type": "stream",
     "text": [
      "June\n",
      "November\n"
     ]
    }
   ],
   "source": [
    "#Dictionary\n",
    "\n",
    "monthConversions = {\n",
    "    \"Jan\": \"January\",\n",
    "    \"Feb\": \"February\",\n",
    "    \"Mar\": \"March\",\n",
    "    \"Apr\": \"April\",\n",
    "    \"May\": \"May\",\n",
    "    \"Jun\": \"June\",\n",
    "    \"Jul\": \"July\",\n",
    "    \"Aug\": \"August\",\n",
    "    \"Sep\": \"September\",\n",
    "    \"Oct\": \"October\",\n",
    "    \"Nov\": \"November\",\n",
    "    \"Dec\": \"December\"\n",
    "}\n",
    "\n",
    "print(monthConversions[\"Jun\"])\n",
    "print(monthConversions.get(\"Nov\"))"
   ]
  },
  {
   "cell_type": "code",
   "execution_count": 117,
   "id": "be72e9f6",
   "metadata": {},
   "outputs": [
    {
     "name": "stdout",
     "output_type": "stream",
     "text": [
      "1\n",
      "2\n",
      "3\n",
      "4\n",
      "5\n",
      "6\n",
      "7\n",
      "8\n",
      "9\n",
      "10\n",
      "End Loop!!\n"
     ]
    }
   ],
   "source": [
    "#while loop\n",
    "\n",
    "i = 1\n",
    "while i <= 10:\n",
    "    print(i)\n",
    "    i += 1\n",
    "\n",
    "print(\"End Loop!!\")"
   ]
  },
  {
   "cell_type": "code",
   "execution_count": 9,
   "id": "e5b36d81",
   "metadata": {},
   "outputs": [
    {
     "name": "stdout",
     "output_type": "stream",
     "text": [
      "You win!\n"
     ]
    }
   ],
   "source": [
    "#Build a guessing game!!\n",
    "secret_word = \"keki\"\n",
    "guess = \"\"\n",
    "guess_count = 0\n",
    "guess_limit = 3\n",
    "out_of_guesses = False\n",
    "\n",
    "while guess != secret_word and not(out_of_guesses):\n",
    "    if guess_count < guess_limit:\n",
    "        guess = input(\"Enter guess: \")\n",
    "        guess_count += 1\n",
    "    else:\n",
    "        out_of_guesses = True\n",
    "\n",
    "if out_of_guesses:\n",
    "    print(\"Out of guesses, You lose!!\")\n",
    "else:\n",
    "    print(\"You win!\")"
   ]
  },
  {
   "cell_type": "code",
   "execution_count": 10,
   "id": "d0f5ca7f",
   "metadata": {},
   "outputs": [
    {
     "name": "stdout",
     "output_type": "stream",
     "text": [
      "L\n",
      "u\n",
      "x\n",
      "d\n",
      "e\n",
      "v\n",
      " \n",
      "t\n",
      "r\n",
      "a\n",
      "i\n",
      "n\n",
      "i\n",
      "n\n",
      "g\n"
     ]
    }
   ],
   "source": [
    "#For Loop\n",
    "for letter in \"Luxdev training\":\n",
    "    print(letter)\n"
   ]
  },
  {
   "cell_type": "code",
   "execution_count": null,
   "id": "ae9af84d",
   "metadata": {},
   "outputs": [],
   "source": [
    "for index in range(10):\n",
    "    print(index)"
   ]
  },
  {
   "cell_type": "code",
   "execution_count": null,
   "id": "6a87c154",
   "metadata": {},
   "outputs": [],
   "source": [
    "for index in range(3,10):\n",
    "    print(index)"
   ]
  },
  {
   "cell_type": "code",
   "execution_count": 11,
   "id": "5d943ea4",
   "metadata": {},
   "outputs": [
    {
     "name": "stdout",
     "output_type": "stream",
     "text": [
      "Kevin\n",
      "Karen\n",
      "Jim\n",
      "Oscar\n",
      "Toby\n"
     ]
    }
   ],
   "source": [
    "friends = [\"Kevin\",\"Karen\",\"Jim\",\"Oscar\",\"Toby\"]\n",
    "for friend in friends:\n",
    "    print(friend)"
   ]
  },
  {
   "cell_type": "code",
   "execution_count": 17,
   "id": "e659edbd",
   "metadata": {},
   "outputs": [
    {
     "name": "stdout",
     "output_type": "stream",
     "text": [
      "Kevin\n",
      "Karen\n",
      "Jim\n",
      "Oscar\n",
      "Toby\n"
     ]
    }
   ],
   "source": [
    "friends = [\"Kevin\",\"Karen\",\"Jim\",\"Oscar\",\"Toby\"]\n",
    "\n",
    "for index in range(len(friends)):\n",
    "    print(friends[index])"
   ]
  },
  {
   "cell_type": "code",
   "execution_count": 21,
   "id": "3f534a4f",
   "metadata": {},
   "outputs": [
    {
     "name": "stdout",
     "output_type": "stream",
     "text": [
      "27\n"
     ]
    }
   ],
   "source": [
    "#Exponent function\n",
    "\n",
    "def raise_to_power(base_num, pow_num):\n",
    "    result = 1\n",
    "    for index in range(pow_num):\n",
    "        result = result * base_num\n",
    "    return result\n",
    "\n",
    "print(raise_to_power(3,3))"
   ]
  },
  {
   "cell_type": "code",
   "execution_count": 23,
   "id": "fd738b26",
   "metadata": {},
   "outputs": [
    {
     "name": "stdout",
     "output_type": "stream",
     "text": [
      "1\n",
      "5\n",
      "9\n",
      "0\n"
     ]
    }
   ],
   "source": [
    "#2D lists and nested lists\n",
    "\n",
    "num_grid = [\n",
    "    [1,2,3],\n",
    "    [4,5,6],\n",
    "    [7,8,9],\n",
    "    [0]\n",
    "]\n",
    "\n",
    "print(num_grid[0][0])\n",
    "print(num_grid[1][1])\n",
    "print(num_grid[2][2])\n",
    "print(num_grid[3][0])"
   ]
  },
  {
   "cell_type": "code",
   "execution_count": 24,
   "id": "24050de6",
   "metadata": {},
   "outputs": [
    {
     "name": "stdout",
     "output_type": "stream",
     "text": [
      "1\n",
      "2\n",
      "3\n",
      "4\n",
      "5\n",
      "6\n",
      "7\n",
      "8\n",
      "9\n",
      "0\n"
     ]
    }
   ],
   "source": [
    "num_grid = [\n",
    "    [1,2,3],\n",
    "    [4,5,6],\n",
    "    [7,8,9],\n",
    "    [0]\n",
    "]\n",
    "\n",
    "for row in num_grid:\n",
    "    for col in row:\n",
    "        print(col)"
   ]
  },
  {
   "cell_type": "code",
   "execution_count": null,
   "id": "b6ac40c5",
   "metadata": {},
   "outputs": [
    {
     "name": "stdout",
     "output_type": "stream",
     "text": [
      "Invalid input\n"
     ]
    }
   ],
   "source": [
    "#Try/except block\n",
    "try:\n",
    "    num = int(input(\"Enter number: \"))\n",
    "    print(num)\n",
    "except:\n",
    "    print(\"Invalid input\")\n"
   ]
  },
  {
   "cell_type": "code",
   "execution_count": 29,
   "id": "3fd22e71",
   "metadata": {},
   "outputs": [
    {
     "name": "stdout",
     "output_type": "stream",
     "text": [
      "Invalid input\n"
     ]
    }
   ],
   "source": [
    "try:\n",
    "    num = int(input(\"Enter number: \"))\n",
    "    print(num)\n",
    "except ZeroDivisionError:\n",
    "    print(\"Divided by zero\")\n",
    "except ValueError:\n",
    "    print(\"Invalid input\")"
   ]
  },
  {
   "cell_type": "code",
   "execution_count": 45,
   "id": "e1164c3c",
   "metadata": {},
   "outputs": [
    {
     "name": "stdout",
     "output_type": "stream",
     "text": [
      "Jim - sales\n",
      "\n",
      "Dwayne - sales\n",
      "\n",
      "mike - manager\n",
      "\n",
      "Pam - reception\n",
      "\n",
      "John - Maintenance\n"
     ]
    }
   ],
   "source": [
    "# Reading files\n",
    "\n",
    "'''\n",
    "open(\"employees.txt\",\"r\") #read\n",
    "open(\"employees.txt\",\"a\") #append\n",
    "open(\"employees.txt\",\"w\") #write\n",
    "open(\"employees.txt\",\"r+\") #read and write\n",
    "'''\n",
    "employee_file = open(\"employees.txt\",\"r\")\n",
    "#print(employee_file.readable())\n",
    "for employee in employee_file.readlines():\n",
    "    print(employee)\n",
    "employee_file.close()"
   ]
  },
  {
   "cell_type": "code",
   "execution_count": null,
   "id": "510f862a",
   "metadata": {},
   "outputs": [
    {
     "name": "stdout",
     "output_type": "stream",
     "text": [
      "Jim - sales\n",
      "Dwayne - sales\n",
      "mike - manager\n",
      "Pam - reception\n",
      "John - Maintenance\n"
     ]
    }
   ],
   "source": [
    "\n",
    "employee_file = open(\"employees.txt\",\"r\")\n",
    "print(employee_file.read())\n",
    "employee_file.close()\n"
   ]
  },
  {
   "cell_type": "code",
   "execution_count": 50,
   "id": "03146e6b",
   "metadata": {},
   "outputs": [],
   "source": [
    "#writing to files\n",
    "employee_file = open(\"employees.txt\",\"a\")\n",
    "employee_file.write(\"Roy - Field\")\n",
    "employee_file.close()"
   ]
  },
  {
   "cell_type": "code",
   "execution_count": null,
   "id": "5a5af455",
   "metadata": {},
   "outputs": [
    {
     "name": "stdout",
     "output_type": "stream",
     "text": [
      "Jim - sales\n",
      "Dwayne - sales\n",
      "mike - manager\n",
      "Pam - reception\n",
      "John - MaintenanceTob - HRToby - HRRoy - FieldRoy - Field\n"
     ]
    }
   ],
   "source": []
  },
  {
   "cell_type": "code",
   "execution_count": null,
   "id": "2da34bc0",
   "metadata": {},
   "outputs": [],
   "source": [
    "#classes and objects\n",
    "\n",
    "\n"
   ]
  }
 ],
 "metadata": {
  "kernelspec": {
   "display_name": "base",
   "language": "python",
   "name": "python3"
  },
  "language_info": {
   "codemirror_mode": {
    "name": "ipython",
    "version": 3
   },
   "file_extension": ".py",
   "mimetype": "text/x-python",
   "name": "python",
   "nbconvert_exporter": "python",
   "pygments_lexer": "ipython3",
   "version": "3.12.7"
  }
 },
 "nbformat": 4,
 "nbformat_minor": 5
}
